{
 "cells": [
  {
   "cell_type": "markdown",
   "id": "ca30dc07",
   "metadata": {},
   "source": [
    "## BinaryNode"
   ]
  },
  {
   "cell_type": "code",
   "execution_count": 8,
   "id": "c0349305",
   "metadata": {},
   "outputs": [],
   "source": [
    "class BinaryNode:\n",
    "    def __init__(self, value):\n",
    "        self.value = value\n",
    "        self.left_child = None\n",
    "        self.right_child = None\n",
    "    \n",
    "    def add_left(self, child):\n",
    "        self.left_child = child\n",
    "\n",
    "    def add_right(self, child):\n",
    "        self.right_child = child\n",
    "    \n",
    "    def __str__(self, level = 0):\n",
    "        result = level * BinaryNode.indent + f'{self.value}:\\n'\n",
    "        \n",
    "        if (self.left_child != None) or (self.right_child != None):\n",
    "            if self.left_child == None:\n",
    "                result += f'{(level + 1) * BinaryNode.indent}None\\n'\n",
    "            else:\n",
    "                result += self.left_child.__str__(level + 1)\n",
    "                \n",
    "            if self.right_child == None:\n",
    "                result += f'{(level + 1) * BinaryNode.indent}None\\n'\n",
    "            else:\n",
    "                result += self.right_child.__str__(level + 1)\n",
    "                \n",
    "        return result\n",
    "    \n",
    "    def find_node(self, target):\n",
    "        if self.value == target:\n",
    "            return self\n",
    "        \n",
    "        if self.left_child != None:\n",
    "            result = self.left_child.find_node(target)\n",
    "            if result != None:\n",
    "                return result\n",
    "        \n",
    "        if self.right_child != None:\n",
    "            result = self.right_child.find_node(target)\n",
    "            if result != None:\n",
    "                return result\n",
    "        \n",
    "        return None\n",
    "    \n",
    "def find_value(root, target):\n",
    "    node = root.find_node(target)\n",
    "    if node == None:\n",
    "        print(f'Value {target} is not found')\n",
    "    else:\n",
    "        print(f'{node.value} exists')"
   ]
  },
  {
   "cell_type": "code",
   "execution_count": 9,
   "id": "0e2b4e51",
   "metadata": {},
   "outputs": [],
   "source": [
    "root = BinaryNode(\"Root\")\n",
    "a = BinaryNode(\"A\")\n",
    "b = BinaryNode(\"B\")\n",
    "c = BinaryNode(\"C\")\n",
    "d = BinaryNode(\"D\")\n",
    "e = BinaryNode(\"E\")\n",
    "f = BinaryNode(\"F\")\n",
    "\n",
    "root.add_left(a)\n",
    "root.add_right(b)\n",
    "a.add_left(c)\n",
    "a.add_right(d)\n",
    "b.add_right(e)\n",
    "e.add_left(f)"
   ]
  },
  {
   "cell_type": "code",
   "execution_count": 10,
   "id": "06ddb7b6",
   "metadata": {},
   "outputs": [
    {
     "name": "stdout",
     "output_type": "stream",
     "text": [
      "Root exists\n",
      "E exists\n",
      "F exists\n",
      "Value Q is not found\n",
      "F exists\n"
     ]
    }
   ],
   "source": [
    "find_value(root, 'Root')\n",
    "find_value(root, 'E')\n",
    "find_value(root, 'F')\n",
    "find_value(root, 'Q')\n",
    "\n",
    "find_value(b, 'F')"
   ]
  },
  {
   "cell_type": "markdown",
   "id": "4f594f5c",
   "metadata": {},
   "source": [
    "## NaryNode"
   ]
  },
  {
   "cell_type": "code",
   "execution_count": 13,
   "id": "418a8ec3",
   "metadata": {},
   "outputs": [],
   "source": [
    "class NaryNode:\n",
    "    def __init__(self, value):\n",
    "        self.value = value\n",
    "        self.children = []\n",
    "    \n",
    "    def add_child(self, child):\n",
    "        self.children.append(child)\n",
    "    \n",
    "    def __str__(self):\n",
    "        result = f'{self.value}:'\n",
    "        \n",
    "        for child in self.children:\n",
    "            result += f' {child.value}'\n",
    "        \n",
    "        return result\n",
    "    \n",
    "    def find_node(self, target):\n",
    "        if self.value == target:\n",
    "            return self\n",
    "        \n",
    "        for child in self.children:\n",
    "            if child != None:\n",
    "                result = child.find_node(target)\n",
    "                if result != None:\n",
    "                    return result\n",
    "                \n",
    "def find_value(root, target):\n",
    "    node = root.find_node(target)\n",
    "    if node == None:\n",
    "        print(f'Value {target} is not found')\n",
    "    else:\n",
    "        print(f'{node.value} exists')"
   ]
  },
  {
   "cell_type": "code",
   "execution_count": 14,
   "id": "786a1ebc",
   "metadata": {},
   "outputs": [],
   "source": [
    "root = NaryNode(\"Root\")\n",
    "a = NaryNode(\"A\")\n",
    "b = NaryNode(\"B\")\n",
    "c = NaryNode(\"C\")\n",
    "d = NaryNode(\"D\")\n",
    "e = NaryNode(\"E\")\n",
    "f = NaryNode(\"F\")\n",
    "g = NaryNode(\"G\")\n",
    "h = NaryNode(\"H\")\n",
    "i = NaryNode(\"I\")\n",
    "\n",
    "root.add_child(a)\n",
    "root.add_child(b)\n",
    "root.add_child(c)\n",
    "a.add_child(d)\n",
    "a.add_child(e)\n",
    "d.add_child(g)\n",
    "c.add_child(f)\n",
    "f.add_child(h)\n",
    "f.add_child(i)"
   ]
  },
  {
   "cell_type": "code",
   "execution_count": 15,
   "id": "756edf63",
   "metadata": {},
   "outputs": [
    {
     "name": "stdout",
     "output_type": "stream",
     "text": [
      "Root exists\n",
      "E exists\n",
      "F exists\n",
      "Value Q is not found\n",
      "F exists\n"
     ]
    }
   ],
   "source": [
    "find_value(root, 'Root')\n",
    "find_value(root, 'E')\n",
    "find_value(root, 'F')\n",
    "find_value(root, 'Q')\n",
    "\n",
    "find_value(c, 'F')"
   ]
  }
 ],
 "metadata": {
  "kernelspec": {
   "display_name": "Python 3 (ipykernel)",
   "language": "python",
   "name": "python3"
  },
  "language_info": {
   "codemirror_mode": {
    "name": "ipython",
    "version": 3
   },
   "file_extension": ".py",
   "mimetype": "text/x-python",
   "name": "python",
   "nbconvert_exporter": "python",
   "pygments_lexer": "ipython3",
   "version": "3.9.5"
  }
 },
 "nbformat": 4,
 "nbformat_minor": 5
}
