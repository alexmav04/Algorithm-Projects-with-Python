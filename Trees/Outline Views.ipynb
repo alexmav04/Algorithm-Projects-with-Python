{
 "cells": [
  {
   "cell_type": "markdown",
   "id": "7bbfd9d8",
   "metadata": {},
   "source": [
    "## BinaryNode"
   ]
  },
  {
   "cell_type": "code",
   "execution_count": 8,
   "id": "01d5bd90",
   "metadata": {},
   "outputs": [],
   "source": [
    "class BinaryNode:\n",
    "    indent = \"  \"\n",
    "    def __init__(self, value):\n",
    "        self.value = value\n",
    "        self.left_child = None\n",
    "        self.right_child = None\n",
    "    \n",
    "    def add_left(self, child):\n",
    "        self.left_child = child\n",
    "\n",
    "    def add_right(self, child):\n",
    "        self.right_child = child\n",
    "    \n",
    "    def __str__(self, level = 0):\n",
    "        result = level * BinaryNode.indent + f'{self.value}:\\n'\n",
    "        \n",
    "        if (self.left_child != None) or (self.right_child != None):\n",
    "            if self.left_child == None:\n",
    "                result += f'{(level + 1) * BinaryNode.indent}None\\n'\n",
    "            else:\n",
    "                result += self.left_child.__str__(level + 1)\n",
    "                \n",
    "            if self.right_child == None:\n",
    "                result += f'{(level + 1) * BinaryNode.indent}None\\n'\n",
    "            else:\n",
    "                result += self.right_child.__str__(level + 1)\n",
    "                \n",
    "        return result"
   ]
  },
  {
   "cell_type": "code",
   "execution_count": 9,
   "id": "2bc63d38",
   "metadata": {},
   "outputs": [],
   "source": [
    "root = BinaryNode(\"Root\")\n",
    "a = BinaryNode(\"A\")\n",
    "b = BinaryNode(\"B\")\n",
    "c = BinaryNode(\"C\")\n",
    "d = BinaryNode(\"D\")\n",
    "e = BinaryNode(\"E\")\n",
    "f = BinaryNode(\"F\")\n",
    "\n",
    "root.add_left(a)\n",
    "root.add_right(b)\n",
    "a.add_left(c)\n",
    "a.add_right(d)\n",
    "b.add_right(e)\n",
    "e.add_left(f)"
   ]
  },
  {
   "cell_type": "code",
   "execution_count": 11,
   "id": "8a4d11b4",
   "metadata": {},
   "outputs": [
    {
     "name": "stdout",
     "output_type": "stream",
     "text": [
      "Root:\n",
      "  A:\n",
      "    C:\n",
      "    D:\n",
      "  B:\n",
      "    None\n",
      "    E:\n",
      "      F:\n",
      "      None\n",
      "\n"
     ]
    }
   ],
   "source": [
    "print(root)"
   ]
  },
  {
   "cell_type": "markdown",
   "id": "b584e465",
   "metadata": {},
   "source": [
    "## NaryNode"
   ]
  },
  {
   "cell_type": "code",
   "execution_count": 21,
   "id": "90a16307",
   "metadata": {},
   "outputs": [],
   "source": [
    "class NaryNode:\n",
    "    def __init__(self, value):\n",
    "        self.value = value\n",
    "        self.children = []\n",
    "    \n",
    "    def add_child(self, child):\n",
    "        self.children.append(child)\n",
    "    \n",
    "    def __str__(self, level=0):\n",
    "        result = level * BinaryNode.indent + f'{self.value}:\\n'\n",
    "        \n",
    "        for child in self.children:\n",
    "            result += child.__str__(level + 1)\n",
    "        \n",
    "        return result"
   ]
  },
  {
   "cell_type": "code",
   "execution_count": 22,
   "id": "760ec992",
   "metadata": {},
   "outputs": [],
   "source": [
    "root = NaryNode(\"Root\")\n",
    "a = NaryNode(\"A\")\n",
    "b = NaryNode(\"B\")\n",
    "c = NaryNode(\"C\")\n",
    "d = NaryNode(\"D\")\n",
    "e = NaryNode(\"E\")\n",
    "f = NaryNode(\"F\")\n",
    "g = NaryNode(\"G\")\n",
    "h = NaryNode(\"H\")\n",
    "i = NaryNode(\"I\")\n",
    "\n",
    "root.add_child(a)\n",
    "root.add_child(b)\n",
    "root.add_child(c)\n",
    "a.add_child(d)\n",
    "a.add_child(e)\n",
    "d.add_child(g)\n",
    "c.add_child(f)\n",
    "f.add_child(h)\n",
    "f.add_child(i)"
   ]
  },
  {
   "cell_type": "code",
   "execution_count": 23,
   "id": "336d3f8f",
   "metadata": {},
   "outputs": [
    {
     "name": "stdout",
     "output_type": "stream",
     "text": [
      "Root:\n",
      "  A:\n",
      "    D:\n",
      "      G:\n",
      "    E:\n",
      "  B:\n",
      "  C:\n",
      "    F:\n",
      "      H:\n",
      "      I:\n",
      "\n"
     ]
    }
   ],
   "source": [
    "print(root)"
   ]
  },
  {
   "cell_type": "code",
   "execution_count": null,
   "id": "bd075439",
   "metadata": {},
   "outputs": [],
   "source": []
  }
 ],
 "metadata": {
  "kernelspec": {
   "display_name": "Python 3 (ipykernel)",
   "language": "python",
   "name": "python3"
  },
  "language_info": {
   "codemirror_mode": {
    "name": "ipython",
    "version": 3
   },
   "file_extension": ".py",
   "mimetype": "text/x-python",
   "name": "python",
   "nbconvert_exporter": "python",
   "pygments_lexer": "ipython3",
   "version": "3.9.5"
  }
 },
 "nbformat": 4,
 "nbformat_minor": 5
}
